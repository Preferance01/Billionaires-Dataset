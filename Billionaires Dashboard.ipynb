{
 "cells": [
  {
   "cell_type": "code",
   "execution_count": 118,
   "metadata": {},
   "outputs": [],
   "source": [
    "##Billionaires Dashboard##\n"
   ]
  },
  {
   "cell_type": "markdown",
   "metadata": {},
   "source": [
    "Billionaires DashBoard in Python."
   ]
  },
  {
   "cell_type": "code",
   "execution_count": 119,
   "metadata": {},
   "outputs": [
    {
     "name": "stdout",
     "output_type": "stream",
     "text": [
      "Defaulting to user installation because normal site-packages is not writeable\n",
      "Requirement already satisfied: pandas in c:\\users\\pchih\\appdata\\roaming\\python\\python310\\site-packages (1.3.4)\n",
      "Requirement already satisfied: pytz>=2017.3 in c:\\users\\pchih\\appdata\\roaming\\python\\python310\\site-packages (from pandas) (2021.3)\n",
      "Requirement already satisfied: numpy>=1.21.0 in c:\\users\\pchih\\appdata\\roaming\\python\\python310\\site-packages (from pandas) (1.21.4)\n",
      "Requirement already satisfied: python-dateutil>=2.7.3 in c:\\users\\pchih\\appdata\\roaming\\python\\python310\\site-packages (from pandas) (2.8.2)\n",
      "Requirement already satisfied: six>=1.5 in c:\\users\\pchih\\appdata\\roaming\\python\\python310\\site-packages (from python-dateutil>=2.7.3->pandas) (1.16.0)\n",
      "Note: you may need to restart the kernel to use updated packages.\n"
     ]
    },
    {
     "name": "stderr",
     "output_type": "stream",
     "text": [
      "WARNING: You are using pip version 21.2.3; however, version 22.2.2 is available.\n",
      "You should consider upgrading via the 'c:\\Program Files\\Python310\\python.exe -m pip install --upgrade pip' command.\n"
     ]
    },
    {
     "name": "stdout",
     "output_type": "stream",
     "text": [
      "Defaulting to user installation because normal site-packages is not writeable\n",
      "Requirement already satisfied: plotly in c:\\users\\pchih\\appdata\\roaming\\python\\python310\\site-packages (5.10.0)\n",
      "Requirement already satisfied: tenacity>=6.2.0 in c:\\users\\pchih\\appdata\\roaming\\python\\python310\\site-packages (from plotly) (8.1.0)\n",
      "Note: you may need to restart the kernel to use updated packages.\n"
     ]
    },
    {
     "name": "stderr",
     "output_type": "stream",
     "text": [
      "WARNING: You are using pip version 21.2.3; however, version 22.2.2 is available.\n",
      "You should consider upgrading via the 'c:\\Program Files\\Python310\\python.exe -m pip install --upgrade pip' command.\n"
     ]
    },
    {
     "name": "stdout",
     "output_type": "stream",
     "text": [
      "Defaulting to user installation because normal site-packages is not writeable\n",
      "Requirement already satisfied: dash in c:\\users\\pchih\\appdata\\roaming\\python\\python310\\site-packages (2.6.2)\n",
      "Requirement already satisfied: Flask>=1.0.4 in c:\\users\\pchih\\appdata\\roaming\\python\\python310\\site-packages (from dash) (2.2.2)\n",
      "Requirement already satisfied: flask-compress in c:\\users\\pchih\\appdata\\roaming\\python\\python310\\site-packages (from dash) (1.13)\n",
      "Requirement already satisfied: plotly>=5.0.0 in c:\\users\\pchih\\appdata\\roaming\\python\\python310\\site-packages (from dash) (5.10.0)\n",
      "Requirement already satisfied: dash-html-components==2.0.0 in c:\\users\\pchih\\appdata\\roaming\\python\\python310\\site-packages (from dash) (2.0.0)\n",
      "Requirement already satisfied: dash-table==5.0.0 in c:\\users\\pchih\\appdata\\roaming\\python\\python310\\site-packages (from dash) (5.0.0)\n",
      "Requirement already satisfied: dash-core-components==2.0.0 in c:\\users\\pchih\\appdata\\roaming\\python\\python310\\site-packages (from dash) (2.0.0)\n",
      "Requirement already satisfied: itsdangerous>=2.0 in c:\\users\\pchih\\appdata\\roaming\\python\\python310\\site-packages (from Flask>=1.0.4->dash) (2.1.2)\n",
      "Requirement already satisfied: Jinja2>=3.0 in c:\\users\\pchih\\appdata\\roaming\\python\\python310\\site-packages (from Flask>=1.0.4->dash) (3.1.2)\n",
      "Requirement already satisfied: Werkzeug>=2.2.2 in c:\\users\\pchih\\appdata\\roaming\\python\\python310\\site-packages (from Flask>=1.0.4->dash) (2.2.2)\n",
      "Requirement already satisfied: click>=8.0 in c:\\users\\pchih\\appdata\\roaming\\python\\python310\\site-packages (from Flask>=1.0.4->dash) (8.0.3)\n",
      "Requirement already satisfied: colorama in c:\\users\\pchih\\appdata\\roaming\\python\\python310\\site-packages (from click>=8.0->Flask>=1.0.4->dash) (0.4.4)\n",
      "Requirement already satisfied: MarkupSafe>=2.0 in c:\\users\\pchih\\appdata\\roaming\\python\\python310\\site-packages (from Jinja2>=3.0->Flask>=1.0.4->dash) (2.1.1)\n",
      "Requirement already satisfied: tenacity>=6.2.0 in c:\\users\\pchih\\appdata\\roaming\\python\\python310\\site-packages (from plotly>=5.0.0->dash) (8.1.0)\n",
      "Requirement already satisfied: brotli in c:\\users\\pchih\\appdata\\roaming\\python\\python310\\site-packages (from flask-compress->dash) (1.0.9)\n",
      "Note: you may need to restart the kernel to use updated packages.\n"
     ]
    },
    {
     "name": "stderr",
     "output_type": "stream",
     "text": [
      "WARNING: You are using pip version 21.2.3; however, version 22.2.2 is available.\n",
      "You should consider upgrading via the 'c:\\Program Files\\Python310\\python.exe -m pip install --upgrade pip' command.\n"
     ]
    },
    {
     "name": "stdout",
     "output_type": "stream",
     "text": [
      "Defaulting to user installation because normal site-packages is not writeable\n",
      "Requirement already satisfied: dash_bootstrap_components in c:\\users\\pchih\\appdata\\roaming\\python\\python310\\site-packages (1.2.1)\n",
      "Requirement already satisfied: dash>=2.0.0 in c:\\users\\pchih\\appdata\\roaming\\python\\python310\\site-packages (from dash_bootstrap_components) (2.6.2)\n",
      "Requirement already satisfied: dash-table==5.0.0 in c:\\users\\pchih\\appdata\\roaming\\python\\python310\\site-packages (from dash>=2.0.0->dash_bootstrap_components) (5.0.0)\n",
      "Requirement already satisfied: plotly>=5.0.0 in c:\\users\\pchih\\appdata\\roaming\\python\\python310\\site-packages (from dash>=2.0.0->dash_bootstrap_components) (5.10.0)\n",
      "Requirement already satisfied: Flask>=1.0.4 in c:\\users\\pchih\\appdata\\roaming\\python\\python310\\site-packages (from dash>=2.0.0->dash_bootstrap_components) (2.2.2)\n",
      "Requirement already satisfied: dash-html-components==2.0.0 in c:\\users\\pchih\\appdata\\roaming\\python\\python310\\site-packages (from dash>=2.0.0->dash_bootstrap_components) (2.0.0)\n",
      "Requirement already satisfied: dash-core-components==2.0.0 in c:\\users\\pchih\\appdata\\roaming\\python\\python310\\site-packages (from dash>=2.0.0->dash_bootstrap_components) (2.0.0)\n",
      "Requirement already satisfied: flask-compress in c:\\users\\pchih\\appdata\\roaming\\python\\python310\\site-packages (from dash>=2.0.0->dash_bootstrap_components) (1.13)\n",
      "Requirement already satisfied: Werkzeug>=2.2.2 in c:\\users\\pchih\\appdata\\roaming\\python\\python310\\site-packages (from Flask>=1.0.4->dash>=2.0.0->dash_bootstrap_components) (2.2.2)\n",
      "Requirement already satisfied: itsdangerous>=2.0 in c:\\users\\pchih\\appdata\\roaming\\python\\python310\\site-packages (from Flask>=1.0.4->dash>=2.0.0->dash_bootstrap_components) (2.1.2)\n",
      "Requirement already satisfied: click>=8.0 in c:\\users\\pchih\\appdata\\roaming\\python\\python310\\site-packages (from Flask>=1.0.4->dash>=2.0.0->dash_bootstrap_components) (8.0.3)\n",
      "Requirement already satisfied: Jinja2>=3.0 in c:\\users\\pchih\\appdata\\roaming\\python\\python310\\site-packages (from Flask>=1.0.4->dash>=2.0.0->dash_bootstrap_components) (3.1.2)\n",
      "Requirement already satisfied: colorama in c:\\users\\pchih\\appdata\\roaming\\python\\python310\\site-packages (from click>=8.0->Flask>=1.0.4->dash>=2.0.0->dash_bootstrap_components) (0.4.4)\n",
      "Requirement already satisfied: MarkupSafe>=2.0 in c:\\users\\pchih\\appdata\\roaming\\python\\python310\\site-packages (from Jinja2>=3.0->Flask>=1.0.4->dash>=2.0.0->dash_bootstrap_components) (2.1.1)\n",
      "Requirement already satisfied: tenacity>=6.2.0 in c:\\users\\pchih\\appdata\\roaming\\python\\python310\\site-packages (from plotly>=5.0.0->dash>=2.0.0->dash_bootstrap_components) (8.1.0)\n",
      "Requirement already satisfied: brotli in c:\\users\\pchih\\appdata\\roaming\\python\\python310\\site-packages (from flask-compress->dash>=2.0.0->dash_bootstrap_components) (1.0.9)\n",
      "Note: you may need to restart the kernel to use updated packages.\n"
     ]
    },
    {
     "name": "stderr",
     "output_type": "stream",
     "text": [
      "WARNING: You are using pip version 21.2.3; however, version 22.2.2 is available.\n",
      "You should consider upgrading via the 'c:\\Program Files\\Python310\\python.exe -m pip install --upgrade pip' command.\n"
     ]
    }
   ],
   "source": [
    "%pip install pandas\n",
    "%pip install plotly\n",
    "%pip install dash\n",
    "%pip install dash_bootstrap_components\n"
   ]
  },
  {
   "cell_type": "code",
   "execution_count": 120,
   "metadata": {},
   "outputs": [],
   "source": [
    "import pandas as pd\n",
    "pd.set_option('max_rows', 20)\n",
    "import plotly.express as px\n",
    "import plotly.io as pio\n",
    "pio.renderers.default = \"browser\"\n"
   ]
  },
  {
   "cell_type": "code",
   "execution_count": 121,
   "metadata": {},
   "outputs": [],
   "source": [
    "import dash\n",
    "from dash.dependencies import Input, Output\n",
    "import dash_core_components as dcc\n",
    "import dash_html_components as html\n",
    "import dash_bootstrap_components as dbc\n"
   ]
  },
  {
   "cell_type": "markdown",
   "metadata": {},
   "source": [
    "Getting The Data.\n"
   ]
  },
  {
   "cell_type": "code",
   "execution_count": 122,
   "metadata": {},
   "outputs": [
    {
     "data": {
      "text/html": [
       "<div>\n",
       "<style scoped>\n",
       "    .dataframe tbody tr th:only-of-type {\n",
       "        vertical-align: middle;\n",
       "    }\n",
       "\n",
       "    .dataframe tbody tr th {\n",
       "        vertical-align: top;\n",
       "    }\n",
       "\n",
       "    .dataframe thead th {\n",
       "        text-align: right;\n",
       "    }\n",
       "</style>\n",
       "<table border=\"1\" class=\"dataframe\">\n",
       "  <thead>\n",
       "    <tr style=\"text-align: right;\">\n",
       "      <th></th>\n",
       "      <th>Name</th>\n",
       "      <th>NetWorth</th>\n",
       "      <th>Country</th>\n",
       "      <th>Source</th>\n",
       "      <th>Rank</th>\n",
       "      <th>Age</th>\n",
       "      <th>Industry</th>\n",
       "    </tr>\n",
       "  </thead>\n",
       "  <tbody>\n",
       "    <tr>\n",
       "      <th>0</th>\n",
       "      <td>Jeff Bezos</td>\n",
       "      <td>$177 B</td>\n",
       "      <td>United States</td>\n",
       "      <td>Amazon</td>\n",
       "      <td>1</td>\n",
       "      <td>57.0</td>\n",
       "      <td>Technology</td>\n",
       "    </tr>\n",
       "    <tr>\n",
       "      <th>1</th>\n",
       "      <td>Elon Musk</td>\n",
       "      <td>$151 B</td>\n",
       "      <td>United States</td>\n",
       "      <td>Tesla, SpaceX</td>\n",
       "      <td>2</td>\n",
       "      <td>49.0</td>\n",
       "      <td>Automotive</td>\n",
       "    </tr>\n",
       "    <tr>\n",
       "      <th>2</th>\n",
       "      <td>Bernard Arnault &amp; family</td>\n",
       "      <td>$150 B</td>\n",
       "      <td>France</td>\n",
       "      <td>LVMH</td>\n",
       "      <td>3</td>\n",
       "      <td>72.0</td>\n",
       "      <td>Fashion &amp; Retail</td>\n",
       "    </tr>\n",
       "    <tr>\n",
       "      <th>3</th>\n",
       "      <td>Bill Gates</td>\n",
       "      <td>$124 B</td>\n",
       "      <td>United States</td>\n",
       "      <td>Microsoft</td>\n",
       "      <td>4</td>\n",
       "      <td>65.0</td>\n",
       "      <td>Technology</td>\n",
       "    </tr>\n",
       "    <tr>\n",
       "      <th>4</th>\n",
       "      <td>Mark Zuckerberg</td>\n",
       "      <td>$97 B</td>\n",
       "      <td>United States</td>\n",
       "      <td>Facebook</td>\n",
       "      <td>5</td>\n",
       "      <td>36.0</td>\n",
       "      <td>Technology</td>\n",
       "    </tr>\n",
       "    <tr>\n",
       "      <th>...</th>\n",
       "      <td>...</td>\n",
       "      <td>...</td>\n",
       "      <td>...</td>\n",
       "      <td>...</td>\n",
       "      <td>...</td>\n",
       "      <td>...</td>\n",
       "      <td>...</td>\n",
       "    </tr>\n",
       "    <tr>\n",
       "      <th>2750</th>\n",
       "      <td>Daniel Yong Zhang</td>\n",
       "      <td>$1 B</td>\n",
       "      <td>China</td>\n",
       "      <td>e-commerce</td>\n",
       "      <td>2674</td>\n",
       "      <td>49.0</td>\n",
       "      <td>Technology</td>\n",
       "    </tr>\n",
       "    <tr>\n",
       "      <th>2751</th>\n",
       "      <td>Zhang Yuqiang</td>\n",
       "      <td>$1 B</td>\n",
       "      <td>China</td>\n",
       "      <td>Fiberglass</td>\n",
       "      <td>2674</td>\n",
       "      <td>65.0</td>\n",
       "      <td>Manufacturing</td>\n",
       "    </tr>\n",
       "    <tr>\n",
       "      <th>2752</th>\n",
       "      <td>Zhao Meiguang</td>\n",
       "      <td>$1 B</td>\n",
       "      <td>China</td>\n",
       "      <td>gold mining</td>\n",
       "      <td>2674</td>\n",
       "      <td>58.0</td>\n",
       "      <td>Metals &amp; Mining</td>\n",
       "    </tr>\n",
       "    <tr>\n",
       "      <th>2753</th>\n",
       "      <td>Zhong Naixiong</td>\n",
       "      <td>$1 B</td>\n",
       "      <td>China</td>\n",
       "      <td>conglomerate</td>\n",
       "      <td>2674</td>\n",
       "      <td>58.0</td>\n",
       "      <td>Diversified</td>\n",
       "    </tr>\n",
       "    <tr>\n",
       "      <th>2754</th>\n",
       "      <td>Zhou Wei family</td>\n",
       "      <td>$1 B</td>\n",
       "      <td>China</td>\n",
       "      <td>Software</td>\n",
       "      <td>2674</td>\n",
       "      <td>54.0</td>\n",
       "      <td>Technology</td>\n",
       "    </tr>\n",
       "  </tbody>\n",
       "</table>\n",
       "<p>2755 rows × 7 columns</p>\n",
       "</div>"
      ],
      "text/plain": [
       "                          Name NetWorth        Country         Source  Rank  \\\n",
       "0                   Jeff Bezos   $177 B  United States         Amazon     1   \n",
       "1                    Elon Musk   $151 B  United States  Tesla, SpaceX     2   \n",
       "2     Bernard Arnault & family   $150 B         France           LVMH     3   \n",
       "3                   Bill Gates   $124 B  United States      Microsoft     4   \n",
       "4              Mark Zuckerberg    $97 B  United States       Facebook     5   \n",
       "...                        ...      ...            ...            ...   ...   \n",
       "2750         Daniel Yong Zhang     $1 B          China     e-commerce  2674   \n",
       "2751             Zhang Yuqiang     $1 B          China     Fiberglass  2674   \n",
       "2752             Zhao Meiguang     $1 B          China    gold mining  2674   \n",
       "2753            Zhong Naixiong     $1 B          China   conglomerate  2674   \n",
       "2754           Zhou Wei family     $1 B          China       Software  2674   \n",
       "\n",
       "       Age          Industry  \n",
       "0     57.0        Technology  \n",
       "1     49.0        Automotive  \n",
       "2     72.0  Fashion & Retail  \n",
       "3     65.0        Technology  \n",
       "4     36.0        Technology  \n",
       "...    ...               ...  \n",
       "2750  49.0        Technology  \n",
       "2751  65.0     Manufacturing  \n",
       "2752  58.0   Metals & Mining  \n",
       "2753  58.0       Diversified  \n",
       "2754  54.0        Technology  \n",
       "\n",
       "[2755 rows x 7 columns]"
      ]
     },
     "execution_count": 122,
     "metadata": {},
     "output_type": "execute_result"
    }
   ],
   "source": [
    "data = \"C:\\\\Users\\\\pchih\\\\OneDrive\\\\Desktop\\\\Python Datasets\\\\Billionaire.csv\"\n",
    "df = pd.read_csv(data)\n",
    "df\n"
   ]
  },
  {
   "cell_type": "code",
   "execution_count": 123,
   "metadata": {},
   "outputs": [
    {
     "name": "stdout",
     "output_type": "stream",
     "text": [
      "<class 'pandas.core.frame.DataFrame'>\n",
      "RangeIndex: 2755 entries, 0 to 2754\n",
      "Data columns (total 7 columns):\n",
      " #   Column    Non-Null Count  Dtype  \n",
      "---  ------    --------------  -----  \n",
      " 0   Name      2755 non-null   object \n",
      " 1   NetWorth  2755 non-null   object \n",
      " 2   Country   2755 non-null   object \n",
      " 3   Source    2755 non-null   object \n",
      " 4   Rank      2755 non-null   int64  \n",
      " 5   Age       2676 non-null   float64\n",
      " 6   Industry  2755 non-null   object \n",
      "dtypes: float64(1), int64(1), object(5)\n",
      "memory usage: 150.8+ KB\n"
     ]
    }
   ],
   "source": [
    "df.info()"
   ]
  },
  {
   "cell_type": "code",
   "execution_count": 124,
   "metadata": {},
   "outputs": [
    {
     "name": "stdout",
     "output_type": "stream",
     "text": [
      "Robert Miller             2\n",
      "Li Li                     2\n",
      "Wang Yanqing & family     2\n",
      "Chen Guoxiang & family    1\n",
      "Tony Chen                 1\n",
      "                         ..\n",
      "Frank VanderSloot         1\n",
      "Kelcy Warren              1\n",
      "Xu Yi                     1\n",
      "Vladimir Yevtushenkov     1\n",
      "Zhou Wei family           1\n",
      "Name: Name, Length: 2752, dtype: int64\n",
      "$1.1 B     150\n",
      "$1.2 B     146\n",
      "$1.4 B     122\n",
      "$1.3 B     115\n",
      "$1.5 B     106\n",
      "          ... \n",
      "$19.4 B      1\n",
      "$19.1 B      1\n",
      "$19 B        1\n",
      "$18.8 B      1\n",
      "$13.7 B      1\n",
      "Name: NetWorth, Length: 245, dtype: int64\n",
      "United States           724\n",
      "China                   626\n",
      "India                   140\n",
      "Germany                 136\n",
      "Russia                  118\n",
      "                       ... \n",
      "Venezuela                 1\n",
      "Eswatini (Swaziland)      1\n",
      "Algeria                   1\n",
      "Liechtenstein             1\n",
      "Nepal                     1\n",
      "Name: Country, Length: 70, dtype: int64\n",
      "2524    150\n",
      "2378    146\n",
      "2141    122\n",
      "2263    115\n",
      "2035    106\n",
      "       ... \n",
      "93        1\n",
      "94        1\n",
      "95        1\n",
      "98        1\n",
      "154       1\n",
      "Name: Rank, Length: 245, dtype: int64\n"
     ]
    }
   ],
   "source": [
    "print(df['Name'].value_counts(dropna=False))\n",
    "print(df['NetWorth'].value_counts(dropna=False))\n",
    "print(df['Country'].value_counts(dropna=False))\n",
    "print(df['Rank'].value_counts(dropna=False))\n"
   ]
  },
  {
   "cell_type": "code",
   "execution_count": 125,
   "metadata": {},
   "outputs": [],
   "source": [
    "msk = df['Country'] == 'United States'\n",
    "px.line(df[msk], x= 'NetWorth', y= 'Name', color= 'Industry')"
   ]
  },
  {
   "cell_type": "markdown",
   "metadata": {},
   "source": [
    "Creating The Dash App."
   ]
  },
  {
   "cell_type": "code",
   "execution_count": 126,
   "metadata": {},
   "outputs": [],
   "source": [
    "#Create the Dash App.\n",
    "app = dash.Dash()\n",
    "\n",
    "#Setup the Layout.\n",
    "app.layout = html.Div(children= [\n",
    "    html.H1(children= 'Billionaires Dashboard'),\n",
    "    dcc.Dropdown(id='country-dropdown',\n",
    "                 options=[{'label': i, 'value': i}\n",
    "                        for i in df['Country'].unique()],\n",
    "                value='United States'),\n",
    "    dcc.Graph(id='Networth-Graph')\n",
    "])"
   ]
  },
  {
   "cell_type": "code",
   "execution_count": 127,
   "metadata": {},
   "outputs": [],
   "source": [
    "#Setting a callback function.\n",
    "@app.callback(\n",
    "    Output(component_id='NetWorth-Graph', component_property='figure'),\n",
    "    Input(component_id='country-dropdown', component_property='value')  \n",
    ")\n",
    "def update_graph(selected_country):\n",
    "    filtered_df= df[df['Country']== selected_country]\n",
    "    line_fig = px.line(filtered_df,\n",
    "                       x= 'NetWorth', y='Name',\n",
    "                       color= 'Industry',\n",
    "                       title= f'Billionaires in {selected_country}')\n",
    "    return line_fig\n"
   ]
  },
  {
   "cell_type": "code",
   "execution_count": null,
   "metadata": {},
   "outputs": [],
   "source": []
  },
  {
   "cell_type": "markdown",
   "metadata": {},
   "source": []
  }
 ],
 "metadata": {
  "kernelspec": {
   "display_name": "Python 3.10.0 64-bit",
   "language": "python",
   "name": "python3"
  },
  "language_info": {
   "codemirror_mode": {
    "name": "ipython",
    "version": 3
   },
   "file_extension": ".py",
   "mimetype": "text/x-python",
   "name": "python",
   "nbconvert_exporter": "python",
   "pygments_lexer": "ipython3",
   "version": "3.10.0"
  },
  "orig_nbformat": 4,
  "vscode": {
   "interpreter": {
    "hash": "26de051ba29f2982a8de78e945f0abaf191376122a1563185a90213a26c5da77"
   }
  }
 },
 "nbformat": 4,
 "nbformat_minor": 2
}
